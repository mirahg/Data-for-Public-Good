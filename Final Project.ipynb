{
 "cells": [
  {
   "cell_type": "markdown",
   "id": "c343108b",
   "metadata": {},
   "source": [
    "# AI Final Project: Data for Public Good Identification\n",
    "## CS4100\n",
    "## Mirah Gordon and Sarah Moyer"
   ]
  },
  {
   "cell_type": "code",
   "execution_count": 1,
   "id": "a9901844",
   "metadata": {},
   "outputs": [],
   "source": [
    "# imports\n",
    "import pandas as pd\n",
    "import numpy as np\n",
    "import sklearn"
   ]
  }
 ],
 "metadata": {
  "kernelspec": {
   "display_name": "Python 3 (ipykernel)",
   "language": "python",
   "name": "python3"
  },
  "language_info": {
   "codemirror_mode": {
    "name": "ipython",
    "version": 3
   },
   "file_extension": ".py",
   "mimetype": "text/x-python",
   "name": "python",
   "nbconvert_exporter": "python",
   "pygments_lexer": "ipython3",
   "version": "3.7.6"
  }
 },
 "nbformat": 4,
 "nbformat_minor": 5
}
